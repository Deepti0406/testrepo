{
 "cells": [
  {
   "cell_type": "markdown",
   "id": "d5ac49a1-350e-47a0-bc6a-b69961217025",
   "metadata": {},
   "source": [
    "# Data Science Tools and Ecosystem"
   ]
  },
  {
   "cell_type": "markdown",
   "id": "9addec9f-253f-4da9-87b7-92489fca112f",
   "metadata": {
    "tags": []
   },
   "source": [
    "## In this notebook, Data Science Tools and Ecosystem are summarized."
   ]
  },
  {
   "cell_type": "markdown",
   "id": "a50a0370-3e3c-4eb2-8e66-095c2471debc",
   "metadata": {},
   "source": [
    "## Author\n",
    "'Deepti'"
   ]
  },
  {
   "cell_type": "markdown",
   "id": "3e14fe1a-a8c5-403c-ad07-00ea22e3e649",
   "metadata": {},
   "source": [
    "### **Objectives**"
   ]
  },
  {
   "cell_type": "markdown",
   "id": "a093be47-1bcb-464c-89d9-902495fcff81",
   "metadata": {
    "tags": []
   },
   "source": [
    "### Some of the popular languages that Data Scientists use are:"
   ]
  },
  {
   "cell_type": "markdown",
   "id": "dd43d6c7-b76f-4364-ab13-85e59b329dd9",
   "metadata": {},
   "source": [
    "PYTHON\n",
    "SQL\n",
    "R"
   ]
  },
  {
   "cell_type": "markdown",
   "id": "c2917aae-4249-4a33-8cfe-6fc15237d2c2",
   "metadata": {},
   "source": [
    "Some of the commonly used libraries used by Data Scientists include:"
   ]
  },
  {
   "cell_type": "markdown",
   "id": "4493e0d2-f248-4835-acd0-da3f8399b44c",
   "metadata": {},
   "source": [
    "NumPy\n",
    "Pandas\n",
    "SciPy\n",
    "TensorFlow"
   ]
  },
  {
   "cell_type": "markdown",
   "id": "fa6638f4-1e27-4343-8c55-c4a0cc770a82",
   "metadata": {},
   "source": [
    "### Data Science ToolsData Science Tools\n",
    "|---|---|---|\n",
    "|1|2|3|\n",
    "|---|---|---|\n",
    "|Python|R|SQL|\n"
   ]
  },
  {
   "cell_type": "markdown",
   "id": "31eabbba-4e91-42c7-ab66-b83c773ed463",
   "metadata": {},
   "source": [
    "### Below are a few examples of evaluating arithmetic expressions in Python"
   ]
  },
  {
   "cell_type": "code",
   "execution_count": 8,
   "id": "6b035128-b85f-4ae3-a300-fc8c89cbadde",
   "metadata": {
    "tags": []
   },
   "outputs": [
    {
     "name": "stdout",
     "output_type": "stream",
     "text": [
      "This a simple arithmetic expression to mutiply then add integers\n"
     ]
    }
   ],
   "source": [
    "print (\"This a simple arithmetic expression to mutiply then add integers\")"
   ]
  },
  {
   "cell_type": "code",
   "execution_count": 9,
   "id": "2fb79bce-930d-42ab-a598-2f65d3f6d9c1",
   "metadata": {
    "tags": []
   },
   "outputs": [
    {
     "data": {
      "text/plain": [
       "17"
      ]
     },
     "execution_count": 9,
     "metadata": {},
     "output_type": "execute_result"
    }
   ],
   "source": [
    "(3*4)+5"
   ]
  },
  {
   "cell_type": "code",
   "execution_count": 10,
   "id": "fe80c200-722e-440d-9401-5a4505c999a7",
   "metadata": {
    "tags": []
   },
   "outputs": [
    {
     "name": "stdout",
     "output_type": "stream",
     "text": [
      " This will convert 200 minutes to hours by diving by 60\n"
     ]
    }
   ],
   "source": [
    "print (\" This will convert 200 minutes to hours by diving by 60\")"
   ]
  },
  {
   "cell_type": "code",
   "execution_count": 11,
   "id": "d8a813c3-d788-4810-bb1d-dccaf2ac2b3a",
   "metadata": {
    "tags": []
   },
   "outputs": [
    {
     "data": {
      "text/plain": [
       "3.3333333333333335"
      ]
     },
     "execution_count": 11,
     "metadata": {},
     "output_type": "execute_result"
    }
   ],
   "source": [
    "200/60"
   ]
  },
  {
   "cell_type": "code",
   "execution_count": null,
   "id": "24904c0d-3f8b-48e3-9226-8108460c6408",
   "metadata": {},
   "outputs": [],
   "source": []
  }
 ],
 "metadata": {
  "kernelspec": {
   "display_name": "Python",
   "language": "python",
   "name": "conda-env-python-py"
  },
  "language_info": {
   "codemirror_mode": {
    "name": "ipython",
    "version": 3
   },
   "file_extension": ".py",
   "mimetype": "text/x-python",
   "name": "python",
   "nbconvert_exporter": "python",
   "pygments_lexer": "ipython3",
   "version": "3.7.12"
  }
 },
 "nbformat": 4,
 "nbformat_minor": 5
}
